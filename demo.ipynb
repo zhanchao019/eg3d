{
 "cells": [
  {
   "cell_type": "code",
   "execution_count": 2,
   "metadata": {
    "collapsed": false,
    "pycharm": {
     "name": "#%%\n"
    }
   },
   "outputs": [
    {
     "name": "stdout",
     "output_type": "stream",
     "text": [
      "Wed Jun 22 20:25:27 2022       \r\n",
      "+-----------------------------------------------------------------------------+\r\n",
      "| NVIDIA-SMI 470.86       Driver Version: 470.86       CUDA Version: 11.4     |\r\n",
      "|-------------------------------+----------------------+----------------------+\r\n",
      "| GPU  Name        Persistence-M| Bus-Id        Disp.A | Volatile Uncorr. ECC |\r\n",
      "| Fan  Temp  Perf  Pwr:Usage/Cap|         Memory-Usage | GPU-Util  Compute M. |\r\n",
      "|                               |                      |               MIG M. |\r\n",
      "|===============================+======================+======================|\r\n",
      "|   0  NVIDIA GeForce ...  Off  | 00000000:01:00.0  On |                  N/A |\r\n",
      "|  0%   54C    P3    32W / 170W |   1682MiB / 12051MiB |     25%      Default |\r\n",
      "|                               |                      |                  N/A |\r\n",
      "+-------------------------------+----------------------+----------------------+\r\n",
      "                                                                               \r\n",
      "+-----------------------------------------------------------------------------+\r\n",
      "| Processes:                                                                  |\r\n",
      "|  GPU   GI   CI        PID   Type   Process name                  GPU Memory |\r\n",
      "|        ID   ID                                                   Usage      |\r\n",
      "|=============================================================================|\r\n",
      "|    0   N/A  N/A      1261      G   /usr/lib/xorg/Xorg                914MiB |\r\n",
      "|    0   N/A  N/A      1629      G   /usr/bin/gnome-shell              288MiB |\r\n",
      "|    0   N/A  N/A     21616      G   ..._21482.log --shared-files      162MiB |\r\n",
      "|    0   N/A  N/A     34740      G   /usr/lib/firefox/firefox          314MiB |\r\n",
      "+-----------------------------------------------------------------------------+\r\n"
     ]
    }
   ],
   "source": [
    "!nvidia-smi"
   ]
  },
  {
   "cell_type": "markdown",
   "metadata": {
    "collapsed": false,
    "pycharm": {
     "name": "#%% md\n"
    }
   },
   "source": [
    "### generate dlib 5 keypoint"
   ]
  },
  {
   "cell_type": "code",
   "execution_count": 8,
   "metadata": {
    "collapsed": false,
    "pycharm": {
     "name": "#%%\n"
    }
   },
   "outputs": [
    {
     "name": "stdout",
     "output_type": "stream",
     "text": [
      "[INFO] loading facial landmark predictor...\r\n",
      "100%|█████████████████████████████████████████| 182/182 [00:05<00:00, 35.70it/s]\r\n"
     ]
    }
   ],
   "source": [
    "!python ./dataset_preprocessing/Deep3DFaceRecon_pytorch/dlib/faster_facial_landmarks.py --shape-predictor ./dataset_preprocessing/Deep3DFaceRecon_pytorch/dlib/shape_predictor_5_face_landmarks.dat --input /home/zhanchao/Mdisk/ubuntu_workplace/github/eg3d/dataset_preprocessing/drive/dataset --output /home/zhanchao/Mdisk/ubuntu_workplace/github/eg3d/dataset_preprocessing/drive/dataset/dlibData\n"
   ]
  },
  {
   "cell_type": "markdown",
   "metadata": {
    "collapsed": false,
    "pycharm": {
     "name": "#%% md\n"
    }
   },
   "source": []
  },
  {
   "cell_type": "markdown",
   "metadata": {
    "collapsed": false,
    "pycharm": {
     "name": "#%% md\n"
    }
   },
   "source": [
    "### 这个命令在Deep3d中执行，结果在Deep3DFaceRecon_pytorch/result中"
   ]
  },
  {
   "cell_type": "code",
   "execution_count": 10,
   "metadata": {
    "collapsed": false,
    "pycharm": {
     "name": "#%%\n"
    }
   },
   "outputs": [
    {
     "name": "stdout",
     "output_type": "stream",
     "text": [
      "----------------- Options ---------------\r\n",
      "                add_image: True                          \r\n",
      "               bfm_folder: BFM                           \r\n",
      "                bfm_model: BFM_model_front.mat           \r\n",
      "                 camera_d: 10.0                          \r\n",
      "                   center: 112.0                         \r\n",
      "          checkpoints_dir: ./checkpoints                 \r\n",
      "             dataset_mode: None                          \r\n",
      "                 ddp_port: 12355                         \r\n",
      "        display_per_batch: True                          \r\n",
      "                    epoch: 20                            \t[default: latest]\r\n",
      "          eval_batch_nums: inf                           \r\n",
      "                    focal: 1015.0                        \r\n",
      "                  gpu_ids: 0                             \r\n",
      "               img_folder: /home/zhanchao/Mdisk/ubuntu_workplace/github/eg3d/dataset_preprocessing/drive/dataset\t[default: examples]\r\n",
      "                init_path: checkpoints/init_model/resnet50-0676ba61.pth\r\n",
      "                  isTrain: False                         \t[default: None]\r\n",
      "                    model: facerecon                     \r\n",
      "                     name: eg3d                          \t[default: face_recon]\r\n",
      "                net_recon: resnet50                      \r\n",
      "                    phase: test                          \r\n",
      "                   suffix:                               \r\n",
      "                  use_ddp: False                         \t[default: True]\r\n",
      "              use_last_fc: False                         \r\n",
      "                  verbose: False                         \r\n",
      "           vis_batch_nums: 1                             \r\n",
      "               world_size: 1                             \r\n",
      "                    z_far: 15.0                          \r\n",
      "                   z_near: 5.0                           \r\n",
      "----------------- End -------------------\r\n",
      "Transfer BFM09 to BFM_model_front......\r\n",
      "Traceback (most recent call last):\r\n",
      "  File \"/home/zhanchao/anaconda3/envs/deep3d-torch/lib/python3.6/site-packages/scipy/io/matlab/mio.py\", line 39, in _open_file\r\n",
      "    return open(file_like, mode), True\r\n",
      "FileNotFoundError: [Errno 2] No such file or directory: 'BFM/01_MorphableModel.mat'\r\n",
      "\r\n",
      "During handling of the above exception, another exception occurred:\r\n",
      "\r\n",
      "Traceback (most recent call last):\r\n",
      "  File \"./dataset_preprocessing/Deep3DFaceRecon_pytorch/test.py\", line 76, in <module>\r\n",
      "    main(0, opt,opt.img_folder)\r\n",
      "  File \"./dataset_preprocessing/Deep3DFaceRecon_pytorch/test.py\", line 43, in main\r\n",
      "    model = create_model(opt)\r\n",
      "  File \"/home/zhanchao/Mdisk/ubuntu_workplace/github/eg3d/dataset_preprocessing/Deep3DFaceRecon_pytorch/models/__init__.py\", line 65, in create_model\r\n",
      "    instance = model(opt)\r\n",
      "  File \"/home/zhanchao/Mdisk/ubuntu_workplace/github/eg3d/dataset_preprocessing/Deep3DFaceRecon_pytorch/models/facerecon_model.py\", line 95, in __init__\r\n",
      "    is_train=self.isTrain, default_name=opt.bfm_model\r\n",
      "  File \"/home/zhanchao/Mdisk/ubuntu_workplace/github/eg3d/dataset_preprocessing/Deep3DFaceRecon_pytorch/models/bfm.py\", line 40, in __init__\r\n",
      "    transferBFM09(bfm_folder)\r\n",
      "  File \"/home/zhanchao/Mdisk/ubuntu_workplace/github/eg3d/dataset_preprocessing/Deep3DFaceRecon_pytorch/util/load_mats.py\", line 34, in transferBFM09\r\n",
      "    original_BFM = loadmat(osp.join(bfm_folder, '01_MorphableModel.mat'))\r\n",
      "  File \"/home/zhanchao/anaconda3/envs/deep3d-torch/lib/python3.6/site-packages/scipy/io/matlab/mio.py\", line 222, in loadmat\r\n",
      "    with _open_file_context(file_name, appendmat) as f:\r\n",
      "  File \"/home/zhanchao/anaconda3/envs/deep3d-torch/lib/python3.6/contextlib.py\", line 81, in __enter__\r\n",
      "    return next(self.gen)\r\n",
      "  File \"/home/zhanchao/anaconda3/envs/deep3d-torch/lib/python3.6/site-packages/scipy/io/matlab/mio.py\", line 17, in _open_file_context\r\n",
      "    f, opened = _open_file(file_like, appendmat, mode)\r\n",
      "  File \"/home/zhanchao/anaconda3/envs/deep3d-torch/lib/python3.6/site-packages/scipy/io/matlab/mio.py\", line 45, in _open_file\r\n",
      "    return open(file_like, mode), True\r\n",
      "FileNotFoundError: [Errno 2] No such file or directory: 'BFM/01_MorphableModel.mat'\r\n"
     ]
    }
   ],
   "source": [
    "!python test.py --name=eg3d --epoch=20 --img_folder=/home/zhanchao/Mdisk/ubuntu_workplace/github/eg3d/dataset_preprocessing/drive/dataset"
   ]
  },
  {
   "cell_type": "code",
   "execution_count": 18,
   "metadata": {
    "collapsed": false,
    "pycharm": {
     "name": "#%%\n"
    }
   },
   "outputs": [],
   "source": [
    "!cd /home/zhanchao/Mdisk/ubuntu_workplace/github/eg3d/dataset_preprocessing/Deep3DFaceRecon_pytorch/checkpoints/eg3d/results/dataset/epoch_20_000000"
   ]
  },
  {
   "cell_type": "code",
   "execution_count": 25,
   "metadata": {
    "collapsed": false,
    "pycharm": {
     "name": "#%%\n"
    }
   },
   "outputs": [],
   "source": [
    "import numpy as np\n",
    "\n",
    "tmp=np.load('/home/zhanchao/Mdisk/ubuntu_workplace/github/eg3d/dataset_preprocessing/Deep3DFaceRecon_pytorch/checkpoints/eg3d/results/dataset/epoch_20_000000/img00000035.mat.npy',allow_pickle=True).item()"
   ]
  },
  {
   "cell_type": "code",
   "execution_count": 26,
   "metadata": {
    "collapsed": false,
    "pycharm": {
     "name": "#%%\n"
    }
   },
   "outputs": [
    {
     "data": {
      "text/plain": [
       "dict_keys(['id', 'exp', 'tex', 'angle', 'gamma', 'trans', 'lm68'])"
      ]
     },
     "execution_count": 26,
     "metadata": {},
     "output_type": "execute_result"
    }
   ],
   "source": [
    "tmp.keys()"
   ]
  },
  {
   "cell_type": "code",
   "execution_count": 30,
   "metadata": {
    "collapsed": false,
    "pycharm": {
     "name": "#%%\n"
    }
   },
   "outputs": [
    {
     "data": {
      "text/plain": [
       "array([[-0.24224134, -0.12719227, -1.1888796 ]], dtype=float32)"
      ]
     },
     "execution_count": 30,
     "metadata": {},
     "output_type": "execute_result"
    }
   ],
   "source": [
    "tmp['trans']"
   ]
  },
  {
   "cell_type": "code",
   "execution_count": 29,
   "metadata": {
    "collapsed": false,
    "pycharm": {
     "name": "#%%\n"
    }
   },
   "outputs": [
    {
     "data": {
      "text/plain": [
       "array([[ 0.1912063 , -0.12088609,  0.09034848]], dtype=float32)"
      ]
     },
     "execution_count": 29,
     "metadata": {},
     "output_type": "execute_result"
    }
   ],
   "source": [
    "tmp['angle']"
   ]
  },
  {
   "cell_type": "code",
   "execution_count": null,
   "metadata": {},
   "outputs": [],
   "source": []
  },
  {
   "cell_type": "code",
   "execution_count": null,
   "outputs": [],
   "source": [],
   "metadata": {
    "collapsed": false,
    "pycharm": {
     "name": "#%%\n"
    }
   }
  },
  {
   "cell_type": "code",
   "execution_count": null,
   "metadata": {
    "collapsed": false,
    "pycharm": {
     "name": "#%%\n"
    }
   },
   "outputs": [],
   "source": []
  }
 ],
 "metadata": {
  "kernelspec": {
   "display_name": "Python 3",
   "language": "python",
   "name": "python3"
  },
  "language_info": {
   "codemirror_mode": {
    "name": "ipython",
    "version": 2
   },
   "file_extension": ".py",
   "mimetype": "text/x-python",
   "name": "python",
   "nbconvert_exporter": "python",
   "pygments_lexer": "ipython2",
   "version": "2.7.6"
  }
 },
 "nbformat": 4,
 "nbformat_minor": 0
}